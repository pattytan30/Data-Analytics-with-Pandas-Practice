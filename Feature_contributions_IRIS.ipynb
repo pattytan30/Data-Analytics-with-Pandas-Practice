{
 "cells": [
  {
   "cell_type": "code",
   "execution_count": 18,
   "metadata": {},
   "outputs": [],
   "source": [
    "# Shapley Feature Explanations \n",
    "\n",
    "import pandas as pd\n",
    "import numpy as np\n",
    "from sklearn.datasets import load_iris\n",
    "from sklearn.linear_model import LogisticRegression\n",
    "from sklearn.model_selection import train_test_split\n",
    "from sklearn.metrics import accuracy_score\n",
    "\n",
    "iris = load_iris()\n",
    "df = pd.DataFrame(data=iris[\"data\"], columns=iris[\"feature_names\"])\n",
    "df[\"target\"] = iris[\"target\"]\n",
    "# iris[\"target\"]\n",
    "# iris[\"target_names\"]"
   ]
  },
  {
   "cell_type": "code",
   "execution_count": 19,
   "metadata": {},
   "outputs": [],
   "source": [
    "def log_reg_accuracy(x, y):\n",
    "    x_train, x_test, y_train, y_test = train_test_split(x, y, test_size=0.5, random_state=3)\n",
    "    log_reg_classifier = LogisticRegression()\n",
    "    log_reg_classifier.fit(x_train, y_train)\n",
    "    pred_y = log_reg_classifier.predict(x_test)\n",
    "    accuracy = accuracy_score(y_test, pred_y)\n",
    "    return accuracy\n",
    "# random_state can affect the results"
   ]
  },
  {
   "cell_type": "code",
   "execution_count": 20,
   "metadata": {},
   "outputs": [
    {
     "data": {
      "text/html": [
       "<style  type=\"text/css\" >\n",
       "</style><table id=\"T_107e7730_c22f_11ea_87e3_acde48001122\" ><caption>Removal Accuracy</caption><thead>    <tr>        <th class=\"blank level0\" ></th>        <th class=\"col_heading level0 col0\" >Features\\Flowers</th>        <th class=\"col_heading level0 col1\" >setosa</th>        <th class=\"col_heading level0 col2\" >versicolor</th>        <th class=\"col_heading level0 col3\" >virginica</th>    </tr></thead><tbody>\n",
       "                <tr>\n",
       "                        <th id=\"T_107e7730_c22f_11ea_87e3_acde48001122level0_row0\" class=\"row_heading level0 row0\" >0</th>\n",
       "                        <td id=\"T_107e7730_c22f_11ea_87e3_acde48001122row0_col0\" class=\"data row0 col0\" >sepal length (cm)</td>\n",
       "                        <td id=\"T_107e7730_c22f_11ea_87e3_acde48001122row0_col1\" class=\"data row0 col1\" >1.000000</td>\n",
       "                        <td id=\"T_107e7730_c22f_11ea_87e3_acde48001122row0_col2\" class=\"data row0 col2\" >0.786667</td>\n",
       "                        <td id=\"T_107e7730_c22f_11ea_87e3_acde48001122row0_col3\" class=\"data row0 col3\" >0.946667</td>\n",
       "            </tr>\n",
       "            <tr>\n",
       "                        <th id=\"T_107e7730_c22f_11ea_87e3_acde48001122level0_row1\" class=\"row_heading level0 row1\" >1</th>\n",
       "                        <td id=\"T_107e7730_c22f_11ea_87e3_acde48001122row1_col0\" class=\"data row1 col0\" >sepal width (cm)</td>\n",
       "                        <td id=\"T_107e7730_c22f_11ea_87e3_acde48001122row1_col1\" class=\"data row1 col1\" >1.000000</td>\n",
       "                        <td id=\"T_107e7730_c22f_11ea_87e3_acde48001122row1_col2\" class=\"data row1 col2\" >0.693333</td>\n",
       "                        <td id=\"T_107e7730_c22f_11ea_87e3_acde48001122row1_col3\" class=\"data row1 col3\" >0.960000</td>\n",
       "            </tr>\n",
       "            <tr>\n",
       "                        <th id=\"T_107e7730_c22f_11ea_87e3_acde48001122level0_row2\" class=\"row_heading level0 row2\" >2</th>\n",
       "                        <td id=\"T_107e7730_c22f_11ea_87e3_acde48001122row2_col0\" class=\"data row2 col0\" >petal length (cm)</td>\n",
       "                        <td id=\"T_107e7730_c22f_11ea_87e3_acde48001122row2_col1\" class=\"data row2 col1\" >1.000000</td>\n",
       "                        <td id=\"T_107e7730_c22f_11ea_87e3_acde48001122row2_col2\" class=\"data row2 col2\" >0.773333</td>\n",
       "                        <td id=\"T_107e7730_c22f_11ea_87e3_acde48001122row2_col3\" class=\"data row2 col3\" >0.960000</td>\n",
       "            </tr>\n",
       "            <tr>\n",
       "                        <th id=\"T_107e7730_c22f_11ea_87e3_acde48001122level0_row3\" class=\"row_heading level0 row3\" >3</th>\n",
       "                        <td id=\"T_107e7730_c22f_11ea_87e3_acde48001122row3_col0\" class=\"data row3 col0\" >petal width (cm)</td>\n",
       "                        <td id=\"T_107e7730_c22f_11ea_87e3_acde48001122row3_col1\" class=\"data row3 col1\" >1.000000</td>\n",
       "                        <td id=\"T_107e7730_c22f_11ea_87e3_acde48001122row3_col2\" class=\"data row3 col2\" >0.760000</td>\n",
       "                        <td id=\"T_107e7730_c22f_11ea_87e3_acde48001122row3_col3\" class=\"data row3 col3\" >0.960000</td>\n",
       "            </tr>\n",
       "    </tbody></table>"
      ],
      "text/plain": [
       "<pandas.io.formats.style.Styler at 0x1a25a6d050>"
      ]
     },
     "execution_count": 20,
     "metadata": {},
     "output_type": "execute_result"
    }
   ],
   "source": [
    "# code one flower as 0, and the rests are 1\n",
    "# test the accuracy by removing one of features each time\n",
    "target_class = [0, 1, 2]\n",
    "all_features = iris[\"feature_names\"]\n",
    "flower_features = []\n",
    "\n",
    "for i in target_class:\n",
    "    df[\"recode\"] = df[\"target\"].apply(lambda x: 0 if x == i else 1)\n",
    "    y = df[\"recode\"].values\n",
    "    features_acc = []\n",
    "    for feature in all_features:\n",
    "        features_copy = all_features.copy()\n",
    "        features_copy.remove(feature)\n",
    "        x = df[features_copy].values\n",
    "        selected_features_accuracy = log_reg_accuracy(x, y)\n",
    "        features_acc.append(selected_features_accuracy)\n",
    "    flower_features.append(features_acc)\n",
    "selected_features_accuracy = np.array(flower_features)\n",
    "\n",
    "table1 = pd.DataFrame({\"Features\\Flowers\": iris[\"feature_names\"],\\\n",
    "                     iris[\"target_names\"][0]: selected_features_accuracy[0],\\\n",
    "                     iris[\"target_names\"][1]: selected_features_accuracy[1],\\\n",
    "                     iris[\"target_names\"][2]: selected_features_accuracy[2]})\n",
    "table1.style.set_caption(\"Removal Accuracy\")"
   ]
  },
  {
   "cell_type": "code",
   "execution_count": 21,
   "metadata": {},
   "outputs": [
    {
     "data": {
      "text/plain": [
       "array([1.        , 0.77333333, 0.94666667])"
      ]
     },
     "execution_count": 21,
     "metadata": {},
     "output_type": "execute_result"
    }
   ],
   "source": [
    "# Accuracy with all features\n",
    "flower_all_features = []\n",
    "for i in target_class:\n",
    "    df[\"recode\"] = df[\"target\"].apply(lambda x: 0 if x == i else 1)\n",
    "    y_label = df[\"recode\"].values\n",
    "    x_feature = df[all_features].values\n",
    "    all_features_accuracy = log_reg_accuracy(x_feature, y_label)\n",
    "    flower_all_features.append(all_features_accuracy)\n",
    "all_features_accuracy = np.array(flower_all_features)\n",
    "all_features_accuracy"
   ]
  },
  {
   "cell_type": "code",
   "execution_count": 22,
   "metadata": {},
   "outputs": [
    {
     "data": {
      "text/html": [
       "<style  type=\"text/css\" >\n",
       "</style><table id=\"T_119329ea_c22f_11ea_87e3_acde48001122\" ><caption>Marginal Contributions</caption><thead>    <tr>        <th class=\"blank level0\" ></th>        <th class=\"col_heading level0 col0\" >Features\\Flowers</th>        <th class=\"col_heading level0 col1\" >setosa</th>        <th class=\"col_heading level0 col2\" >versicolor</th>        <th class=\"col_heading level0 col3\" >virginica</th>    </tr></thead><tbody>\n",
       "                <tr>\n",
       "                        <th id=\"T_119329ea_c22f_11ea_87e3_acde48001122level0_row0\" class=\"row_heading level0 row0\" >0</th>\n",
       "                        <td id=\"T_119329ea_c22f_11ea_87e3_acde48001122row0_col0\" class=\"data row0 col0\" >sepal length (cm)</td>\n",
       "                        <td id=\"T_119329ea_c22f_11ea_87e3_acde48001122row0_col1\" class=\"data row0 col1\" >0.000000</td>\n",
       "                        <td id=\"T_119329ea_c22f_11ea_87e3_acde48001122row0_col2\" class=\"data row0 col2\" >-0.013333</td>\n",
       "                        <td id=\"T_119329ea_c22f_11ea_87e3_acde48001122row0_col3\" class=\"data row0 col3\" >0.000000</td>\n",
       "            </tr>\n",
       "            <tr>\n",
       "                        <th id=\"T_119329ea_c22f_11ea_87e3_acde48001122level0_row1\" class=\"row_heading level0 row1\" >1</th>\n",
       "                        <td id=\"T_119329ea_c22f_11ea_87e3_acde48001122row1_col0\" class=\"data row1 col0\" >sepal width (cm)</td>\n",
       "                        <td id=\"T_119329ea_c22f_11ea_87e3_acde48001122row1_col1\" class=\"data row1 col1\" >0.000000</td>\n",
       "                        <td id=\"T_119329ea_c22f_11ea_87e3_acde48001122row1_col2\" class=\"data row1 col2\" >0.080000</td>\n",
       "                        <td id=\"T_119329ea_c22f_11ea_87e3_acde48001122row1_col3\" class=\"data row1 col3\" >-0.013333</td>\n",
       "            </tr>\n",
       "            <tr>\n",
       "                        <th id=\"T_119329ea_c22f_11ea_87e3_acde48001122level0_row2\" class=\"row_heading level0 row2\" >2</th>\n",
       "                        <td id=\"T_119329ea_c22f_11ea_87e3_acde48001122row2_col0\" class=\"data row2 col0\" >petal length (cm)</td>\n",
       "                        <td id=\"T_119329ea_c22f_11ea_87e3_acde48001122row2_col1\" class=\"data row2 col1\" >0.000000</td>\n",
       "                        <td id=\"T_119329ea_c22f_11ea_87e3_acde48001122row2_col2\" class=\"data row2 col2\" >0.000000</td>\n",
       "                        <td id=\"T_119329ea_c22f_11ea_87e3_acde48001122row2_col3\" class=\"data row2 col3\" >-0.013333</td>\n",
       "            </tr>\n",
       "            <tr>\n",
       "                        <th id=\"T_119329ea_c22f_11ea_87e3_acde48001122level0_row3\" class=\"row_heading level0 row3\" >3</th>\n",
       "                        <td id=\"T_119329ea_c22f_11ea_87e3_acde48001122row3_col0\" class=\"data row3 col0\" >petal width (cm)</td>\n",
       "                        <td id=\"T_119329ea_c22f_11ea_87e3_acde48001122row3_col1\" class=\"data row3 col1\" >0.000000</td>\n",
       "                        <td id=\"T_119329ea_c22f_11ea_87e3_acde48001122row3_col2\" class=\"data row3 col2\" >0.013333</td>\n",
       "                        <td id=\"T_119329ea_c22f_11ea_87e3_acde48001122row3_col3\" class=\"data row3 col3\" >-0.013333</td>\n",
       "            </tr>\n",
       "    </tbody></table>"
      ],
      "text/plain": [
       "<pandas.io.formats.style.Styler at 0x1a25ce7390>"
      ]
     },
     "execution_count": 22,
     "metadata": {},
     "output_type": "execute_result"
    }
   ],
   "source": [
    "setosa_contribution_accuracy = all_features_accuracy[0] - selected_features_accuracy[0]\n",
    "versicolor_contribution_accuracy = all_features_accuracy[1] - selected_features_accuracy[1]\n",
    "virginica_contribution_accuracy = all_features_accuracy[2] - selected_features_accuracy[2]\n",
    "\n",
    "table2 = pd.DataFrame({\"Features\\Flowers\": iris[\"feature_names\"],\\\n",
    "                     iris[\"target_names\"][0]: setosa_contribution_accuracy,\\\n",
    "                     iris[\"target_names\"][1]: versicolor_contribution_accuracy,\\\n",
    "                     iris[\"target_names\"][2]: virginica_contribution_accuracy})\n",
    "table2.style.set_caption(\"Marginal Contributions\")"
   ]
  },
  {
   "cell_type": "markdown",
   "metadata": {},
   "source": [
    "For setosa, removing any one of the features can give the same accuracy, so there is no significant differnce among features to differenciate setosa and other flowers.\\\n",
    "For versicolor, sepal width is the most important feature to identify versicolor and other flowers.\\\n",
    "For virginica, removing one of features except for sepal length can increase the accuracy."
   ]
  },
  {
   "cell_type": "code",
   "execution_count": null,
   "metadata": {},
   "outputs": [],
   "source": []
  }
 ],
 "metadata": {
  "kernelspec": {
   "display_name": "Python 3",
   "language": "python",
   "name": "python3"
  },
  "language_info": {
   "codemirror_mode": {
    "name": "ipython",
    "version": 3
   },
   "file_extension": ".py",
   "mimetype": "text/x-python",
   "name": "python",
   "nbconvert_exporter": "python",
   "pygments_lexer": "ipython3",
   "version": "3.7.6"
  }
 },
 "nbformat": 4,
 "nbformat_minor": 4
}
