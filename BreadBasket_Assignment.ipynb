{
 "cells": [
  {
   "cell_type": "markdown",
   "metadata": {},
   "source": [
    "## 1. What is the busiest (in terms of number of transactions)?"
   ]
  },
  {
   "cell_type": "code",
   "execution_count": 1,
   "metadata": {},
   "outputs": [
    {
     "data": {
      "text/html": [
       "<div>\n",
       "<style scoped>\n",
       "    .dataframe tbody tr th:only-of-type {\n",
       "        vertical-align: middle;\n",
       "    }\n",
       "\n",
       "    .dataframe tbody tr th {\n",
       "        vertical-align: top;\n",
       "    }\n",
       "\n",
       "    .dataframe thead th {\n",
       "        text-align: right;\n",
       "    }\n",
       "</style>\n",
       "<table border=\"1\" class=\"dataframe\">\n",
       "  <thead>\n",
       "    <tr style=\"text-align: right;\">\n",
       "      <th></th>\n",
       "      <th>Hour</th>\n",
       "      <th>Transaction</th>\n",
       "    </tr>\n",
       "  </thead>\n",
       "  <tbody>\n",
       "    <tr>\n",
       "      <th>5</th>\n",
       "      <td>11</td>\n",
       "      <td>1445</td>\n",
       "    </tr>\n",
       "    <tr>\n",
       "      <th>6</th>\n",
       "      <td>12</td>\n",
       "      <td>1347</td>\n",
       "    </tr>\n",
       "    <tr>\n",
       "      <th>4</th>\n",
       "      <td>10</td>\n",
       "      <td>1267</td>\n",
       "    </tr>\n",
       "    <tr>\n",
       "      <th>7</th>\n",
       "      <td>13</td>\n",
       "      <td>1163</td>\n",
       "    </tr>\n",
       "    <tr>\n",
       "      <th>8</th>\n",
       "      <td>14</td>\n",
       "      <td>1130</td>\n",
       "    </tr>\n",
       "  </tbody>\n",
       "</table>\n",
       "</div>"
      ],
      "text/plain": [
       "   Hour  Transaction\n",
       "5    11         1445\n",
       "6    12         1347\n",
       "4    10         1267\n",
       "7    13         1163\n",
       "8    14         1130"
      ]
     },
     "execution_count": 1,
     "metadata": {},
     "output_type": "execute_result"
    }
   ],
   "source": [
    "import pandas as pd\n",
    "import numpy as np\n",
    "df = pd.read_csv(\"BreadBasket_DMS_output.csv\")\n",
    "\n",
    "# The busiest hour\n",
    "df.groupby([\"Hour\"])[\"Transaction\"].nunique().reset_index().sort_values(\"Transaction\", ascending=False).head()"
   ]
  },
  {
   "cell_type": "markdown",
   "metadata": {},
   "source": [
    "#### The busiest hour is 11 a.m followed by 12 p.m."
   ]
  },
  {
   "cell_type": "code",
   "execution_count": 2,
   "metadata": {},
   "outputs": [
    {
     "data": {
      "text/html": [
       "<div>\n",
       "<style scoped>\n",
       "    .dataframe tbody tr th:only-of-type {\n",
       "        vertical-align: middle;\n",
       "    }\n",
       "\n",
       "    .dataframe tbody tr th {\n",
       "        vertical-align: top;\n",
       "    }\n",
       "\n",
       "    .dataframe thead th {\n",
       "        text-align: right;\n",
       "    }\n",
       "</style>\n",
       "<table border=\"1\" class=\"dataframe\">\n",
       "  <thead>\n",
       "    <tr style=\"text-align: right;\">\n",
       "      <th></th>\n",
       "      <th>Weekday</th>\n",
       "      <th>Transaction</th>\n",
       "    </tr>\n",
       "  </thead>\n",
       "  <tbody>\n",
       "    <tr>\n",
       "      <th>2</th>\n",
       "      <td>Saturday</td>\n",
       "      <td>2068</td>\n",
       "    </tr>\n",
       "    <tr>\n",
       "      <th>0</th>\n",
       "      <td>Friday</td>\n",
       "      <td>1488</td>\n",
       "    </tr>\n",
       "    <tr>\n",
       "      <th>3</th>\n",
       "      <td>Sunday</td>\n",
       "      <td>1264</td>\n",
       "    </tr>\n",
       "    <tr>\n",
       "      <th>4</th>\n",
       "      <td>Thursday</td>\n",
       "      <td>1252</td>\n",
       "    </tr>\n",
       "    <tr>\n",
       "      <th>5</th>\n",
       "      <td>Tuesday</td>\n",
       "      <td>1203</td>\n",
       "    </tr>\n",
       "    <tr>\n",
       "      <th>1</th>\n",
       "      <td>Monday</td>\n",
       "      <td>1135</td>\n",
       "    </tr>\n",
       "    <tr>\n",
       "      <th>6</th>\n",
       "      <td>Wednesday</td>\n",
       "      <td>1121</td>\n",
       "    </tr>\n",
       "  </tbody>\n",
       "</table>\n",
       "</div>"
      ],
      "text/plain": [
       "     Weekday  Transaction\n",
       "2   Saturday         2068\n",
       "0     Friday         1488\n",
       "3     Sunday         1264\n",
       "4   Thursday         1252\n",
       "5    Tuesday         1203\n",
       "1     Monday         1135\n",
       "6  Wednesday         1121"
      ]
     },
     "execution_count": 2,
     "metadata": {},
     "output_type": "execute_result"
    }
   ],
   "source": [
    "# The busiest day of week\n",
    "df.groupby([\"Weekday\"])[\"Transaction\"].nunique().reset_index().sort_values(\"Transaction\", ascending=False)"
   ]
  },
  {
   "cell_type": "markdown",
   "metadata": {},
   "source": [
    "#### The busiest day of week is Saturday."
   ]
  },
  {
   "cell_type": "code",
   "execution_count": 3,
   "metadata": {},
   "outputs": [
    {
     "data": {
      "text/html": [
       "<div>\n",
       "<style scoped>\n",
       "    .dataframe tbody tr th:only-of-type {\n",
       "        vertical-align: middle;\n",
       "    }\n",
       "\n",
       "    .dataframe tbody tr th {\n",
       "        vertical-align: top;\n",
       "    }\n",
       "\n",
       "    .dataframe thead th {\n",
       "        text-align: right;\n",
       "    }\n",
       "</style>\n",
       "<table border=\"1\" class=\"dataframe\">\n",
       "  <thead>\n",
       "    <tr style=\"text-align: right;\">\n",
       "      <th></th>\n",
       "      <th>Period</th>\n",
       "      <th>Transaction</th>\n",
       "    </tr>\n",
       "  </thead>\n",
       "  <tbody>\n",
       "    <tr>\n",
       "      <th>0</th>\n",
       "      <td>afternoon</td>\n",
       "      <td>5307</td>\n",
       "    </tr>\n",
       "    <tr>\n",
       "      <th>2</th>\n",
       "      <td>morning</td>\n",
       "      <td>4110</td>\n",
       "    </tr>\n",
       "    <tr>\n",
       "      <th>1</th>\n",
       "      <td>evening</td>\n",
       "      <td>113</td>\n",
       "    </tr>\n",
       "    <tr>\n",
       "      <th>3</th>\n",
       "      <td>night</td>\n",
       "      <td>1</td>\n",
       "    </tr>\n",
       "  </tbody>\n",
       "</table>\n",
       "</div>"
      ],
      "text/plain": [
       "      Period  Transaction\n",
       "0  afternoon         5307\n",
       "2    morning         4110\n",
       "1    evening          113\n",
       "3      night            1"
      ]
     },
     "execution_count": 3,
     "metadata": {},
     "output_type": "execute_result"
    }
   ],
   "source": [
    "# The busiest period\n",
    "df.groupby([\"Period\"])[\"Transaction\"].nunique().reset_index().sort_values(\"Transaction\", ascending=False)"
   ]
  },
  {
   "cell_type": "markdown",
   "metadata": {},
   "source": [
    "#### The busiest period is afternoon followed by morning, while evening and night are far less busy. "
   ]
  },
  {
   "cell_type": "markdown",
   "metadata": {},
   "source": [
    "## 2. What is the most profitable time (in terms of revenue)?"
   ]
  },
  {
   "cell_type": "code",
   "execution_count": 4,
   "metadata": {},
   "outputs": [
    {
     "data": {
      "text/html": [
       "<div>\n",
       "<style scoped>\n",
       "    .dataframe tbody tr th:only-of-type {\n",
       "        vertical-align: middle;\n",
       "    }\n",
       "\n",
       "    .dataframe tbody tr th {\n",
       "        vertical-align: top;\n",
       "    }\n",
       "\n",
       "    .dataframe thead th {\n",
       "        text-align: right;\n",
       "    }\n",
       "</style>\n",
       "<table border=\"1\" class=\"dataframe\">\n",
       "  <thead>\n",
       "    <tr style=\"text-align: right;\">\n",
       "      <th></th>\n",
       "      <th>Hour</th>\n",
       "      <th>Item_Price</th>\n",
       "    </tr>\n",
       "  </thead>\n",
       "  <tbody>\n",
       "    <tr>\n",
       "      <th>5</th>\n",
       "      <td>11</td>\n",
       "      <td>21453.44</td>\n",
       "    </tr>\n",
       "    <tr>\n",
       "      <th>6</th>\n",
       "      <td>12</td>\n",
       "      <td>19680.60</td>\n",
       "    </tr>\n",
       "  </tbody>\n",
       "</table>\n",
       "</div>"
      ],
      "text/plain": [
       "   Hour  Item_Price\n",
       "5    11    21453.44\n",
       "6    12    19680.60"
      ]
     },
     "execution_count": 4,
     "metadata": {},
     "output_type": "execute_result"
    }
   ],
   "source": [
    "# The most profitable hour\n",
    "df.groupby([\"Hour\"])[\"Item_Price\"].sum().reset_index().sort_values(\"Item_Price\", ascending=False).head(2)"
   ]
  },
  {
   "cell_type": "markdown",
   "metadata": {},
   "source": [
    "#### The most profitable hour is 11 a.m."
   ]
  },
  {
   "cell_type": "code",
   "execution_count": 5,
   "metadata": {},
   "outputs": [
    {
     "data": {
      "text/html": [
       "<div>\n",
       "<style scoped>\n",
       "    .dataframe tbody tr th:only-of-type {\n",
       "        vertical-align: middle;\n",
       "    }\n",
       "\n",
       "    .dataframe tbody tr th {\n",
       "        vertical-align: top;\n",
       "    }\n",
       "\n",
       "    .dataframe thead th {\n",
       "        text-align: right;\n",
       "    }\n",
       "</style>\n",
       "<table border=\"1\" class=\"dataframe\">\n",
       "  <thead>\n",
       "    <tr style=\"text-align: right;\">\n",
       "      <th></th>\n",
       "      <th>Weekday</th>\n",
       "      <th>Item_Price</th>\n",
       "    </tr>\n",
       "  </thead>\n",
       "  <tbody>\n",
       "    <tr>\n",
       "      <th>2</th>\n",
       "      <td>Saturday</td>\n",
       "      <td>31531.83</td>\n",
       "    </tr>\n",
       "    <tr>\n",
       "      <th>3</th>\n",
       "      <td>Sunday</td>\n",
       "      <td>21495.75</td>\n",
       "    </tr>\n",
       "  </tbody>\n",
       "</table>\n",
       "</div>"
      ],
      "text/plain": [
       "    Weekday  Item_Price\n",
       "2  Saturday    31531.83\n",
       "3    Sunday    21495.75"
      ]
     },
     "execution_count": 5,
     "metadata": {},
     "output_type": "execute_result"
    }
   ],
   "source": [
    "# The most profitable day of week\n",
    "df.groupby([\"Weekday\"])[\"Item_Price\"].sum().reset_index().sort_values(\"Item_Price\", ascending=False).head(2)"
   ]
  },
  {
   "cell_type": "markdown",
   "metadata": {},
   "source": [
    "#### The most profitable day of week is Saturday."
   ]
  },
  {
   "cell_type": "code",
   "execution_count": 6,
   "metadata": {},
   "outputs": [
    {
     "data": {
      "text/html": [
       "<div>\n",
       "<style scoped>\n",
       "    .dataframe tbody tr th:only-of-type {\n",
       "        vertical-align: middle;\n",
       "    }\n",
       "\n",
       "    .dataframe tbody tr th {\n",
       "        vertical-align: top;\n",
       "    }\n",
       "\n",
       "    .dataframe thead th {\n",
       "        text-align: right;\n",
       "    }\n",
       "</style>\n",
       "<table border=\"1\" class=\"dataframe\">\n",
       "  <thead>\n",
       "    <tr style=\"text-align: right;\">\n",
       "      <th></th>\n",
       "      <th>Period</th>\n",
       "      <th>Item_Price</th>\n",
       "    </tr>\n",
       "  </thead>\n",
       "  <tbody>\n",
       "    <tr>\n",
       "      <th>0</th>\n",
       "      <td>afternoon</td>\n",
       "      <td>81299.97</td>\n",
       "    </tr>\n",
       "    <tr>\n",
       "      <th>2</th>\n",
       "      <td>morning</td>\n",
       "      <td>56986.96</td>\n",
       "    </tr>\n",
       "  </tbody>\n",
       "</table>\n",
       "</div>"
      ],
      "text/plain": [
       "      Period  Item_Price\n",
       "0  afternoon    81299.97\n",
       "2    morning    56986.96"
      ]
     },
     "execution_count": 6,
     "metadata": {},
     "output_type": "execute_result"
    }
   ],
   "source": [
    "# The most profitable period\n",
    "df.groupby([\"Period\"])[\"Item_Price\"].sum().reset_index().sort_values(\"Item_Price\", ascending=False).head(2)"
   ]
  },
  {
   "cell_type": "markdown",
   "metadata": {},
   "source": [
    "#### The most profitable period is afternoon. \n",
    "#### With the results above, the busiest time is always the most profitable. "
   ]
  },
  {
   "cell_type": "markdown",
   "metadata": {},
   "source": [
    "## 3. What is the most and least popular item?"
   ]
  },
  {
   "cell_type": "code",
   "execution_count": 7,
   "metadata": {},
   "outputs": [
    {
     "data": {
      "text/plain": [
       "Coffee    5471\n",
       "Bread     3325\n",
       "Tea       1435\n",
       "Cake      1025\n",
       "Pastry     856\n",
       "Name: Item, dtype: int64"
      ]
     },
     "execution_count": 7,
     "metadata": {},
     "output_type": "execute_result"
    }
   ],
   "source": [
    "item_transaction_count = df[\"Item\"].value_counts()\n",
    "# The most popular item\n",
    "item_transaction_count.nlargest()"
   ]
  },
  {
   "cell_type": "code",
   "execution_count": 8,
   "metadata": {},
   "outputs": [
    {
     "data": {
      "text/plain": [
       "Gift voucher      1\n",
       "The BART          1\n",
       "Raw bars          1\n",
       "Bacon             1\n",
       "Chicken sand      1\n",
       "Adjustment        1\n",
       "Polenta           1\n",
       "Olum & polenta    1\n",
       "Bowl Nic Pitt     2\n",
       "Fairy Doors       2\n",
       "Name: Item, dtype: int64"
      ]
     },
     "execution_count": 8,
     "metadata": {},
     "output_type": "execute_result"
    }
   ],
   "source": [
    "# The least popular item\n",
    "item_transaction_count.nsmallest(10)"
   ]
  },
  {
   "cell_type": "markdown",
   "metadata": {},
   "source": [
    "#### The most popular product is coffee while the least popular product includes 8 items, adjustment, olum&polenta, polenta, bacon, the BART, gift voucher, chicken sand, and raw bars. "
   ]
  },
  {
   "cell_type": "markdown",
   "metadata": {},
   "source": [
    "## 4. How many barristas do you need for each day of the week? Assume one barrista can handle 50 transactions per day.\n"
   ]
  },
  {
   "cell_type": "code",
   "execution_count": 9,
   "metadata": {},
   "outputs": [
    {
     "data": {
      "text/html": [
       "<div>\n",
       "<style scoped>\n",
       "    .dataframe tbody tr th:only-of-type {\n",
       "        vertical-align: middle;\n",
       "    }\n",
       "\n",
       "    .dataframe tbody tr th {\n",
       "        vertical-align: top;\n",
       "    }\n",
       "\n",
       "    .dataframe thead th {\n",
       "        text-align: right;\n",
       "    }\n",
       "</style>\n",
       "<table border=\"1\" class=\"dataframe\">\n",
       "  <thead>\n",
       "    <tr style=\"text-align: right;\">\n",
       "      <th></th>\n",
       "      <th>Total Transactions</th>\n",
       "      <th>Day Count</th>\n",
       "      <th>Average Transactions</th>\n",
       "      <th>Num of Barrista</th>\n",
       "    </tr>\n",
       "    <tr>\n",
       "      <th>Weekday</th>\n",
       "      <th></th>\n",
       "      <th></th>\n",
       "      <th></th>\n",
       "      <th></th>\n",
       "    </tr>\n",
       "  </thead>\n",
       "  <tbody>\n",
       "    <tr>\n",
       "      <th>Saturday</th>\n",
       "      <td>2068</td>\n",
       "      <td>23</td>\n",
       "      <td>89.91</td>\n",
       "      <td>2.0</td>\n",
       "    </tr>\n",
       "    <tr>\n",
       "      <th>Friday</th>\n",
       "      <td>1488</td>\n",
       "      <td>23</td>\n",
       "      <td>64.70</td>\n",
       "      <td>2.0</td>\n",
       "    </tr>\n",
       "    <tr>\n",
       "      <th>Sunday</th>\n",
       "      <td>1264</td>\n",
       "      <td>23</td>\n",
       "      <td>54.96</td>\n",
       "      <td>2.0</td>\n",
       "    </tr>\n",
       "    <tr>\n",
       "      <th>Thursday</th>\n",
       "      <td>1252</td>\n",
       "      <td>23</td>\n",
       "      <td>54.43</td>\n",
       "      <td>2.0</td>\n",
       "    </tr>\n",
       "    <tr>\n",
       "      <th>Monday</th>\n",
       "      <td>1135</td>\n",
       "      <td>21</td>\n",
       "      <td>54.05</td>\n",
       "      <td>2.0</td>\n",
       "    </tr>\n",
       "    <tr>\n",
       "      <th>Tuesday</th>\n",
       "      <td>1203</td>\n",
       "      <td>23</td>\n",
       "      <td>52.30</td>\n",
       "      <td>2.0</td>\n",
       "    </tr>\n",
       "    <tr>\n",
       "      <th>Wednesday</th>\n",
       "      <td>1121</td>\n",
       "      <td>23</td>\n",
       "      <td>48.74</td>\n",
       "      <td>1.0</td>\n",
       "    </tr>\n",
       "  </tbody>\n",
       "</table>\n",
       "</div>"
      ],
      "text/plain": [
       "           Total Transactions  Day Count  Average Transactions  \\\n",
       "Weekday                                                          \n",
       "Saturday                 2068         23                 89.91   \n",
       "Friday                   1488         23                 64.70   \n",
       "Sunday                   1264         23                 54.96   \n",
       "Thursday                 1252         23                 54.43   \n",
       "Monday                   1135         21                 54.05   \n",
       "Tuesday                  1203         23                 52.30   \n",
       "Wednesday                1121         23                 48.74   \n",
       "\n",
       "           Num of Barrista  \n",
       "Weekday                     \n",
       "Saturday               2.0  \n",
       "Friday                 2.0  \n",
       "Sunday                 2.0  \n",
       "Thursday               2.0  \n",
       "Monday                 2.0  \n",
       "Tuesday                2.0  \n",
       "Wednesday              1.0  "
      ]
     },
     "execution_count": 9,
     "metadata": {},
     "output_type": "execute_result"
    }
   ],
   "source": [
    "df_b = pd.DataFrame(columns = [\"Total Transactions\", \"Day Count\", \"Average Transactions\", \"Num of Barrista\"])\n",
    "df_b[\"Total Transactions\"] = df.groupby(\"Weekday\")[\"Transaction\"].nunique()\n",
    "\n",
    "# Count the total day of each weekday in the dataset\n",
    "df_2 = df.groupby([\"Year\", \"Month\", \"Day\", \"Weekday\"])[\"Transaction\"].nunique()\n",
    "df_b[\"Day Count\"] = df_2.groupby(\"Weekday\").count()\n",
    "\n",
    "# Count the average transaction of each weekday\n",
    "df_b[\"Average Transactions\"] = (df_b[\"Total Transactions\"] / df_b[\"Day Count\"]).round(2)\n",
    "\n",
    "# Figure out the averge number of barrista each day of the week\n",
    "# Round up the number of barrista\n",
    "barrista_capacity = 50\n",
    "df_b[\"Num of Barrista\"] = (df_b[\"Average Transactions\"] / barrista_capacity).apply(np.ceil)\n",
    "\n",
    "df_b.sort_values(by=\"Average Transactions\", ascending=False)"
   ]
  },
  {
   "cell_type": "markdown",
   "metadata": {},
   "source": [
    "#### According to the average transactions in each day of the week, we calculated how many barrista we need for the shop. For the number of barrista, the amount is rounded up. Given that, we will assign 2 barristas for each day except Wednesday. "
   ]
  },
  {
   "cell_type": "markdown",
   "metadata": {},
   "source": [
    "## 5. Divide all items in 3 groups (drinks, food, unknown). What is the average price of a drink and a food item?"
   ]
  },
  {
   "cell_type": "code",
   "execution_count": 10,
   "metadata": {},
   "outputs": [
    {
     "data": {
      "text/plain": [
       "{'Adjustment',\n",
       " 'Afternoon with the baker',\n",
       " 'Alfajores',\n",
       " 'Argentina Night',\n",
       " 'Art Tray',\n",
       " 'Bacon',\n",
       " 'Baguette',\n",
       " 'Bakewell',\n",
       " 'Bare Popcorn',\n",
       " 'Basket',\n",
       " 'Bowl Nic Pitt',\n",
       " 'Bread',\n",
       " 'Bread Pudding',\n",
       " 'Brioche and salami',\n",
       " 'Brownie',\n",
       " 'Cake',\n",
       " 'Caramel bites',\n",
       " 'Cherry me Dried fruit',\n",
       " 'Chicken Stew',\n",
       " 'Chicken sand',\n",
       " 'Chimichurri Oil',\n",
       " 'Chocolates',\n",
       " 'Christmas common',\n",
       " 'Coffee',\n",
       " 'Coffee granules ',\n",
       " 'Coke',\n",
       " 'Cookies',\n",
       " 'Crepes',\n",
       " 'Crisps',\n",
       " 'Drinking chocolate spoons ',\n",
       " 'Duck egg',\n",
       " 'Dulce de Leche',\n",
       " 'Eggs',\n",
       " \"Ella's Kitchen Pouches\",\n",
       " 'Empanadas',\n",
       " 'Extra Salami or Feta',\n",
       " 'Fairy Doors',\n",
       " 'Farm House',\n",
       " 'Focaccia',\n",
       " 'Frittata',\n",
       " 'Fudge',\n",
       " 'Gift voucher',\n",
       " 'Gingerbread syrup',\n",
       " 'Granola',\n",
       " 'Hack the stack',\n",
       " 'Half slice Monster ',\n",
       " 'Hearty & Seasonal',\n",
       " 'Honey',\n",
       " 'Hot chocolate',\n",
       " 'Jam',\n",
       " 'Jammie Dodgers',\n",
       " 'Juice',\n",
       " 'Keeping It Local',\n",
       " 'Kids biscuit',\n",
       " 'Lemon and coconut',\n",
       " 'Medialuna',\n",
       " 'Mighty Protein',\n",
       " 'Mineral water',\n",
       " 'Mortimer',\n",
       " 'Muesli',\n",
       " 'Muffin',\n",
       " 'My-5 Fruit Shoot',\n",
       " 'NONE',\n",
       " 'Nomad bag',\n",
       " 'Olum & polenta',\n",
       " 'Panatone',\n",
       " 'Pastry',\n",
       " 'Pick and Mix Bowls',\n",
       " 'Pintxos',\n",
       " 'Polenta',\n",
       " 'Postcard',\n",
       " 'Raspberry shortbread sandwich',\n",
       " 'Raw bars',\n",
       " 'Salad',\n",
       " 'Sandwich',\n",
       " 'Scandinavian',\n",
       " 'Scone',\n",
       " 'Siblings',\n",
       " 'Smoothies',\n",
       " 'Soup',\n",
       " 'Spanish Brunch',\n",
       " 'Spread',\n",
       " 'Tacos/Fajita',\n",
       " 'Tartine',\n",
       " 'Tea',\n",
       " 'The BART',\n",
       " 'The Nomad',\n",
       " 'Tiffin',\n",
       " 'Toast',\n",
       " 'Truffles',\n",
       " 'Tshirt',\n",
       " \"Valentine's card\",\n",
       " 'Vegan Feast',\n",
       " 'Vegan mincepie',\n",
       " 'Victorian Sponge'}"
      ]
     },
     "execution_count": 10,
     "metadata": {},
     "output_type": "execute_result"
    }
   ],
   "source": [
    "# Get all the item names\n",
    "item_list = set(df[\"Item\"].tolist())\n",
    "item_list"
   ]
  },
  {
   "cell_type": "code",
   "execution_count": 11,
   "metadata": {},
   "outputs": [
    {
     "data": {
      "text/html": [
       "<div>\n",
       "<style scoped>\n",
       "    .dataframe tbody tr th:only-of-type {\n",
       "        vertical-align: middle;\n",
       "    }\n",
       "\n",
       "    .dataframe tbody tr th {\n",
       "        vertical-align: top;\n",
       "    }\n",
       "\n",
       "    .dataframe thead th {\n",
       "        text-align: right;\n",
       "    }\n",
       "</style>\n",
       "<table border=\"1\" class=\"dataframe\">\n",
       "  <thead>\n",
       "    <tr style=\"text-align: right;\">\n",
       "      <th></th>\n",
       "      <th>Total Income</th>\n",
       "      <th>Count</th>\n",
       "      <th>Average Price</th>\n",
       "    </tr>\n",
       "    <tr>\n",
       "      <th>Category</th>\n",
       "      <th></th>\n",
       "      <th></th>\n",
       "      <th></th>\n",
       "    </tr>\n",
       "  </thead>\n",
       "  <tbody>\n",
       "    <tr>\n",
       "      <th>Drink</th>\n",
       "      <td>72701.44</td>\n",
       "      <td>8660</td>\n",
       "      <td>8.40</td>\n",
       "    </tr>\n",
       "    <tr>\n",
       "      <th>Food</th>\n",
       "      <td>51721.26</td>\n",
       "      <td>10710</td>\n",
       "      <td>4.83</td>\n",
       "    </tr>\n",
       "    <tr>\n",
       "      <th>Unknown</th>\n",
       "      <td>14839.85</td>\n",
       "      <td>1923</td>\n",
       "      <td>7.72</td>\n",
       "    </tr>\n",
       "  </tbody>\n",
       "</table>\n",
       "</div>"
      ],
      "text/plain": [
       "          Total Income  Count  Average Price\n",
       "Category                                    \n",
       "Drink         72701.44   8660           8.40\n",
       "Food          51721.26  10710           4.83\n",
       "Unknown       14839.85   1923           7.72"
      ]
     },
     "execution_count": 11,
     "metadata": {},
     "output_type": "execute_result"
    }
   ],
   "source": [
    "# Catrgorize items into \"drink\", \"food\", and \"unknown\"\n",
    "drink = ['Argentina Night','Coffee','Coffee granules ','Coke','Dulce de Leche',\"Ella's Kitchen Pouches\",\n",
    "         'Hot chocolate','Juice','Mighty Protein','Mineral water','Smoothies','Soup','Tea']\n",
    "food = ['Afternoon with the baker','Alfajores','Bacon','Bakewell','Bare Popcorn','Bowl Nic Pitt',\n",
    "        'Bread','Bread Pudding','Brioche and salami','Brownie','Cake','Caramel bites',\n",
    "        'Cherry me Dried fruit','Chicken Stew','Chicken sand','Chimichurri Oil','Chocolates',\n",
    "        'Cookies','Crepes','Crisps','Drinking chocolate spoons ','Duck egg','Eggs','Extra Salami or Feta',\n",
    "        'Focaccia','Frittata','Fudge','Gingerbread syrup','Granola','Half slice Monster ',\n",
    "        'Hearty & Seasonal','Honey','Jam','Jammie Dodgers','Keeping It Local','Kids biscuit',\n",
    "        'Lemon and coconut','Medialuna','Muesli','Muffin','My-5 Fruit Shoot','Olum & polenta',\n",
    "        'Panatone','Pastry','Pick and Mix Bowls','Pintxos','Polenta','Raspberry shortbread sandwich',\n",
    "        'Raw bars','Salad','Sandwich', 'Scone','Spanish Brunch','Tacos/Fajita','Tartine','Toast',\n",
    "        'Truffles','Vegan Feast','Vegan mincepie','Victorian Sponge']\n",
    " \n",
    "conditions = [df[\"Item\"].isin(drink), df[\"Item\"].isin(food)]\n",
    "labels = [\"Drink\", \"Food\"]\n",
    "\n",
    "# the rest will be labeled as \"unknown\"\n",
    "df[\"Category\"] = np.select(conditions, labels, \"Unknown\")\n",
    "\n",
    "# Calculate the income and average price\n",
    "df_income = pd.DataFrame(columns = [\"Total Income\", \"Count\", \"Average Price\"])\n",
    "df_income[\"Total Income\"] = df.groupby(\"Category\")[\"Item_Price\"].sum()\n",
    "df_income[\"Count\"] = df.groupby(\"Category\").count()\n",
    "df_income[\"Average Price\"] = (df_income[\"Total Income\"] / df_income[\"Count\"]).round(2)\n",
    "df_income.sort_values(by=\"Total Income\", ascending=False)\n",
    " "
   ]
  },
  {
   "cell_type": "markdown",
   "metadata": {},
   "source": [
    "#### According to the table above, the average price of a drink is 8.4 and the average price of a food item is 4.83."
   ]
  },
  {
   "cell_type": "markdown",
   "metadata": {},
   "source": [
    "## 6. Does this coffee shop make more money from selling drinks or from selling food?"
   ]
  },
  {
   "cell_type": "markdown",
   "metadata": {},
   "source": [
    "#### Based on the income of each category(table in question 5), this coffess shop makes more money from selling drinks with total income 72,701 dollars, even though it provides more options and sell more products in food category. "
   ]
  },
  {
   "cell_type": "markdown",
   "metadata": {},
   "source": [
    "## 7. What are the top 5 most popular items for each day of the week? Does this list stays the same from day to day?"
   ]
  },
  {
   "cell_type": "code",
   "execution_count": 12,
   "metadata": {},
   "outputs": [
    {
     "data": {
      "text/plain": [
       "Weekday    Item    \n",
       "Friday     Coffee       854\n",
       "           Bread        527\n",
       "           Tea          218\n",
       "           Sandwich     134\n",
       "           Cake         120\n",
       "Monday     Coffee       681\n",
       "           Bread        360\n",
       "           Tea          193\n",
       "           Pastry       105\n",
       "           Sandwich     101\n",
       "Saturday   Coffee      1103\n",
       "           Bread        760\n",
       "           Tea          288\n",
       "           Cake         246\n",
       "           NONE         198\n",
       "Sunday     Coffee       825\n",
       "           Bread        473\n",
       "           Tea          171\n",
       "           Cake         167\n",
       "           NONE         138\n",
       "Thursday   Coffee       670\n",
       "           Bread        450\n",
       "           Tea          183\n",
       "           Cake         141\n",
       "           Pastry       121\n",
       "Tuesday    Coffee       710\n",
       "           Bread        350\n",
       "           Tea          194\n",
       "           Cake         139\n",
       "           Pastry       119\n",
       "Wednesday  Coffee       628\n",
       "           Bread        405\n",
       "           Tea          188\n",
       "           Cake         123\n",
       "           NONE         108\n",
       "Name: Item, dtype: int64"
      ]
     },
     "execution_count": 12,
     "metadata": {},
     "output_type": "execute_result"
    }
   ],
   "source": [
    "df_pop = df.groupby(\"Weekday\")[\"Item\"].value_counts().groupby(\"Weekday\")\n",
    "\n",
    "# The top 5 most popular items for each day of the week\n",
    "df_most_pop = df_pop.head(5)\n",
    "df_most_pop"
   ]
  },
  {
   "cell_type": "markdown",
   "metadata": {},
   "source": [
    "#### The top 5 most popular items for each day of week are very similar but not the same. Coffee, bread, and tea are the sustaining top 3 popular item every day of the week. For the rest ranking, items are slightly different for each day, including cake, pastry, sandwich, and \"NONE\". "
   ]
  },
  {
   "cell_type": "markdown",
   "metadata": {},
   "source": [
    "## 8. What are the bottom 5 least popular items for each day of the week? Does this list stays the same from day to day?"
   ]
  },
  {
   "cell_type": "code",
   "execution_count": 13,
   "metadata": {},
   "outputs": [
    {
     "data": {
      "text/plain": [
       "Weekday    Item                         \n",
       "Friday     Panatone                         1\n",
       "           Raspberry shortbread sandwich    1\n",
       "           The BART                         1\n",
       "           Valentine's card                 1\n",
       "           Vegan Feast                      1\n",
       "Monday     Drinking chocolate spoons        1\n",
       "           Dulce de Leche                   1\n",
       "           Extra Salami or Feta             1\n",
       "           Mighty Protein                   1\n",
       "           Pick and Mix Bowls               1\n",
       "Saturday   Fairy Doors                      1\n",
       "           Lemon and coconut                1\n",
       "           Mortimer                         1\n",
       "           Raspberry shortbread sandwich    1\n",
       "           Victorian Sponge                 1\n",
       "Sunday     Drinking chocolate spoons        1\n",
       "           Empanadas                        1\n",
       "           Gingerbread syrup                1\n",
       "           Raspberry shortbread sandwich    1\n",
       "           Spread                           1\n",
       "Thursday   Drinking chocolate spoons        1\n",
       "           Duck egg                         1\n",
       "           Lemon and coconut                1\n",
       "           Nomad bag                        1\n",
       "           Spread                           1\n",
       "Tuesday    Half slice Monster               1\n",
       "           Honey                            1\n",
       "           Kids biscuit                     1\n",
       "           Nomad bag                        1\n",
       "           Victorian Sponge                 1\n",
       "Wednesday  Olum & polenta                   1\n",
       "           Polenta                          1\n",
       "           Raw bars                         1\n",
       "           Vegan Feast                      1\n",
       "           Victorian Sponge                 1\n",
       "Name: Item, dtype: int64"
      ]
     },
     "execution_count": 13,
     "metadata": {},
     "output_type": "execute_result"
    }
   ],
   "source": [
    "df_least_pop = df_pop.tail(5)\n",
    "df_least_pop"
   ]
  },
  {
   "cell_type": "markdown",
   "metadata": {},
   "source": [
    "#### When it comes to the top 5 least popular item for each day of the week, they are very differety from day to day. Some of items showing up more than one day of the week are raspberry shortbread sandwich, dringking chocolate spoons, lemon and coconut, vegan feast, victorian sponge, etc. In fact, we can find out more than 5 items in each day of week are not popular with only 1 transaction."
   ]
  },
  {
   "cell_type": "markdown",
   "metadata": {},
   "source": [
    "## 9. How many drinks are there per transaction?"
   ]
  },
  {
   "cell_type": "code",
   "execution_count": 14,
   "metadata": {},
   "outputs": [
    {
     "name": "stdout",
     "output_type": "stream",
     "text": [
      "The average drinks per transaction are 1.12\n"
     ]
    }
   ],
   "source": [
    "df_drink = (df[\"Category\"] == \"Drink\").sum()\n",
    "total_transaction = df[\"Transaction\"].max()\n",
    "drinks_per_transaction = (total_transaction / df_drink).round(2)\n",
    "print(\"The average drinks per transaction are\", drinks_per_transaction)"
   ]
  }
 ],
 "metadata": {
  "kernelspec": {
   "display_name": "Python 3",
   "language": "python",
   "name": "python3"
  },
  "language_info": {
   "codemirror_mode": {
    "name": "ipython",
    "version": 3
   },
   "file_extension": ".py",
   "mimetype": "text/x-python",
   "name": "python",
   "nbconvert_exporter": "python",
   "pygments_lexer": "ipython3",
   "version": "3.7.6"
  }
 },
 "nbformat": 4,
 "nbformat_minor": 4
}
